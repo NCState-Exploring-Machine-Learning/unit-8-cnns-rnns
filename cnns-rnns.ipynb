{
 "cells": [
  {
   "cell_type": "markdown",
   "metadata": {},
   "source": [
    "# CNNs and RNNs\n",
    "\n",
    "\n",
    "In this unit we will talk about teh Convolution Neural Network (CNN) and Recurrent Neural Network (RNN), as well as introducing how you can build them through using the module pytorch. "
   ]
  },
  {
   "cell_type": "markdown",
   "metadata": {},
   "source": [
    "# The Convolution\n",
    "\n",
    "In order to understand a CNN it is worth spending some time talking about the convolution. \n",
    "\n",
    "The idea of a convolution is to pass one system through another. If a system is though of as a function, it is the idea of taking every output of each function for every input and combining them in some way. In our case we can simulate this by passing a kernel over our image. On initialization the kernel has random values, but the values can be learned through the training process. \n",
    "\n",
    "The kernel we convolve with can be any value, and the size, stride and padding is a hyper parameter a model can be trained on. \n",
    "\n",
    "The kernel acts as a way to consolidate information as it passes throughout the model. The output of the kernel and the data is known as a feature map. This creates a \"high level features\" on our feature map. It can be thought of as finding higher level patterns in our data. The more kernels we have the \"features\" we tend to learn.\n",
    "\n",
    "Large kernels can learn more global patterns or high level details, while small kernels can help learn more detailed patterns. \n",
    "\n",
    "As the feature map information is passed through multiple kernels, a single value later down the network represents many values closer to the input of the feature map.\n",
    "\n",
    "https://hannibunny.github.io/mlbook/neuralnetworks/convolutionDemos.html\n",
    "https://www.striveworks.com/blog/demystifying-computer-vision-the-power-of-convolution-in-neural-networks#:~:text=What%20Is%20Convolution%3F\n",
    "https://www.youtube.com/watch?v=kebSR2Ph7zg\n",
    "\n",
    "Interesting Kernels: https://en.wikipedia.org/wiki/Kernel_(image_processing)"
   ]
  },
  {
   "cell_type": "markdown",
   "metadata": {},
   "source": [
    "# Pytorch\n",
    "\n",
    "Pytorch is a machine learning library created by Facebook/Meta, it is open source and created under the Linux Foundation. This along with TensorFlow is one of the most powerful open source machine learning libraries available. You can learn more about pytorch in the link below.\n",
    "\n",
    "https://pytorch.org/\n",
    "\n",
    "\n",
    "Pytorch as many of the same steps as scikit learn, however since pytorch's power comes from its ability to be more granular, there is a bit more setup involved. However, this gives us much more flexibility on our data. \n",
    "\n",
    "1. Import the data\n",
    "2. Setup the dataset class\n",
    "3. Feed into a data loader\n",
    "4. Build your model\n",
    "5. Train your model\n",
    "6. Evaluate the results\n",
    "\n",
    "There are many many resources online, so I encourage you to look at examples! \n",
    "\n",
    "Pytorch relies heavily on you to create classes, so if you are a bit rusty please check out online resources for class creation in python."
   ]
  },
  {
   "cell_type": "code",
   "execution_count": 107,
   "metadata": {},
   "outputs": [],
   "source": [
    "# Example inspired heavily from https://www.kaggle.com/code/tiiktak/fashion-mnist-with-alexnet-in-pytorch-92-accuracy\n",
    "# 1. Import the data\n",
    "# Data source: https://www.kaggle.com/datasets/zalando-research/fashionmnist?resource=download\n",
    "\n",
    "import zipfile\n",
    "import torch\n",
    "# Unzip the Data\n",
    "with zipfile.ZipFile('./fashion-mnist_test.csv.zip', 'r') as zip:\n",
    "    zip.extractall('fashion-mnist_test')\n",
    "\n",
    "with zipfile.ZipFile('./fashion-mnist_train.csv.zip', 'r') as zip:\n",
    "    zip.extractall('fashion-mnist_train')\n",
    "\n",
    "import pandas as pd\n",
    "\n",
    "fashion_train_csv = pd.read_csv('./fashion-mnist_train/fashion-mnist_train.csv')\n",
    "fashion_test_csv = pd.read_csv('./fashion-mnist_test/fashion-mnist_test.csv')\n",
    "\n",
    "CLASS_NAMES = ['T-shirt/top', 'Trouser', 'Pullover', 'Dress', 'Coat',\n",
    "               'Sandal', 'Shirt', 'Sneaker', 'Bag', 'Ankle boot']\n"
   ]
  },
  {
   "cell_type": "code",
   "execution_count": 86,
   "metadata": {},
   "outputs": [
    {
     "name": "stdout",
     "output_type": "stream",
     "text": [
      "   label  pixel1  pixel2  pixel3  pixel4  pixel5  pixel6  pixel7  pixel8  \\\n",
      "0      2       0       0       0       0       0       0       0       0   \n",
      "1      9       0       0       0       0       0       0       0       0   \n",
      "2      6       0       0       0       0       0       0       0       5   \n",
      "3      0       0       0       0       1       2       0       0       0   \n",
      "4      3       0       0       0       0       0       0       0       0   \n",
      "\n",
      "   pixel9  ...  pixel775  pixel776  pixel777  pixel778  pixel779  pixel780  \\\n",
      "0       0  ...         0         0         0         0         0         0   \n",
      "1       0  ...         0         0         0         0         0         0   \n",
      "2       0  ...         0         0         0        30        43         0   \n",
      "3       0  ...         3         0         0         0         0         1   \n",
      "4       0  ...         0         0         0         0         0         0   \n",
      "\n",
      "   pixel781  pixel782  pixel783  pixel784  \n",
      "0         0         0         0         0  \n",
      "1         0         0         0         0  \n",
      "2         0         0         0         0  \n",
      "3         0         0         0         0  \n",
      "4         0         0         0         0  \n",
      "\n",
      "[5 rows x 785 columns]\n"
     ]
    }
   ],
   "source": [
    "# Setup for Datasets\n",
    "print(fashion_train_csv.head())"
   ]
  },
  {
   "cell_type": "code",
   "execution_count": 87,
   "metadata": {},
   "outputs": [],
   "source": [
    "from torch.utils.data import Dataset\n",
    "import numpy as np\n",
    "from PIL import Image\n",
    "class FashionDataset(Dataset):\n",
    "    def __init__(self, data, transform=None):        \n",
    "        self.fashion_MNIST = list(data.values)\n",
    "        self.transform = transform\n",
    "        \n",
    "        label, image = [], []\n",
    "        \n",
    "        # Is there a better way to do this :)\n",
    "        for i in self.fashion_MNIST:\n",
    "            label.append(i[0])\n",
    "            image.append(i[1:])\n",
    "        self.labels = np.asarray(label)\n",
    "        self.images = np.asarray(image).reshape(-1, 28, 28).astype('float32')\n",
    "        \n",
    "    def __len__(self):\n",
    "        return len(self.images)\n",
    "    \n",
    "    def __getitem__(self, idx):\n",
    "        label = self.labels[idx]\n",
    "        image = self.images[idx]      \n",
    "        \n",
    "        if self.transform is not None:\n",
    "            # transfrom the numpy array to PIL image before the transform function\n",
    "            pil_image = Image.fromarray(np.uint8(image)) \n",
    "            image = self.transform(pil_image)\n",
    "            \n",
    "        return image, label\n",
    "    \n",
    "from torchvision import transforms, datasets\n",
    "# Feed into our dataset\n",
    "\n",
    "preprocess = transforms.Compose([\n",
    "    transforms.ToTensor(),\n",
    "])\n",
    "\n",
    "fashion_train_dataset = FashionDataset(fashion_train_csv, preprocess)\n",
    "fashion_test_dataset = FashionDataset(fashion_test_csv, preprocess)\n"
   ]
  },
  {
   "cell_type": "code",
   "execution_count": 126,
   "metadata": {},
   "outputs": [],
   "source": [
    "from torch.utils.data import DataLoader\n",
    "# Feed into a data loader\n",
    "BATCH_SIZE = 64\n",
    "fashion_train_loader = DataLoader(fashion_train_dataset, batch_size=BATCH_SIZE, shuffle=True)\n",
    "fashion_test_loader = DataLoader(fashion_test_dataset, batch_size=BATCH_SIZE, shuffle=True) "
   ]
  },
  {
   "cell_type": "code",
   "execution_count": 121,
   "metadata": {},
   "outputs": [
    {
     "name": "stdout",
     "output_type": "stream",
     "text": [
      "torch.Size([64, 1, 28, 28])\n",
      "torch.Size([64])\n",
      "Shirt\n"
     ]
    },
    {
     "data": {
      "image/png": "[encoded data removed]",
      "text/plain": [
       "<Figure size 640x480 with 1 Axes>"
      ]
     },
     "metadata": {},
     "output_type": "display_data"
    }
   ],
   "source": [
    "# Visualize Data\n",
    "import matplotlib.pyplot as plt\n",
    "for batch, labels in fashion_train_loader:\n",
    "    print(batch.shape)\n",
    "    print(labels.shape)\n",
    "    plt.imshow(batch[0].squeeze())\n",
    "    print( CLASS_NAMES[labels[0]])\n",
    "    break"
   ]
  },
  {
   "cell_type": "code",
   "execution_count": 152,
   "metadata": {},
   "outputs": [
    {
     "name": "stdout",
     "output_type": "stream",
     "text": [
      "torch.Size([64, 484])\n",
      "torch.Size([64, 1])\n"
     ]
    }
   ],
   "source": [
    "# Build the model\n",
    "import torch.nn as nn\n",
    "# There is a lot of nuance here\n",
    "\n",
    "\n",
    "class fashion_mnist_model(nn.Module):\n",
    "    def __init__(self):\n",
    "        super(fashion_mnist_model, self).__init__()\n",
    "        # Create the layers we want to use\n",
    "        # Made these up for this example\n",
    "        self.conv1 = nn.Conv2d(in_channels=1, out_channels=10, kernel_size=3)\n",
    "        self.conv2 = nn.Conv2d(in_channels=10, out_channels=3, kernel_size=3)\n",
    "        self.conv3 = nn.Conv2d(in_channels=3, out_channels=1, kernel_size=3)\n",
    "        self.fc1 = nn.Linear(in_features=22 * 22, out_features=1)\n",
    "        self.relu = nn.ReLU()\n",
    "\n",
    "\n",
    "    def forward(self, x : torch.Tensor):\n",
    "        # Use the layers we created to do a feed forward of our data\n",
    "        x = self.conv1(x)\n",
    "        x = self.relu(x)\n",
    "        x = self.conv2(x)\n",
    "        x = self.relu(x)\n",
    "        x = self.conv3(x)\n",
    "        x = self.relu(x)\n",
    "        x = x.view(x.size(0), -1)\n",
    "        print(x.shape)\n",
    "        x = self.fc1(x)\n",
    "        return x\n",
    "\n",
    "# Look at all of these hyperparameters!\n",
    "model = fashion_mnist_model()\n",
    "for batch, labels in fashion_train_loader:\n",
    "    out = model(batch)\n",
    "    print(out.shape)\n",
    "    break"
   ]
  },
  {
   "cell_type": "markdown",
   "metadata": {},
   "source": [
    "# Convolution Neural Networks (CNN)"
   ]
  },
  {
   "cell_type": "markdown",
   "metadata": {},
   "source": [
    "# AlexNet Example\n",
    "\n",
    "One useful aspect of pytorch is we can use existing models provided. Granted these are academic model, but they allow us to use the structures right out of the box. We can then train on data without setup for the model. We still need to setup unpacking our data and loading it into datasets, but this way we dont need to create a model object from scratch. \n",
    "\n"
   ]
  },
  {
   "cell_type": "code",
   "execution_count": null,
   "metadata": {},
   "outputs": [],
   "source": [
    "from torchvision.models import AlexNet, AlexNet_Weights\n",
    "from torchvision import transforms\n",
    "import torchvision\n",
    "import torch\n",
    "# Get the dataset ready\n",
    "# Wnat to use mnist dataset I think \n",
    "\n",
    "# TODO: Get the test dataset out and \n",
    "\n",
    "preprocess = transforms.Compose([\n",
    "    transforms.Resize(256),\n",
    "    transforms.CenterCrop(224),\n",
    "    transforms.Grayscale(num_output_channels=3, ),\n",
    "    transforms.ToTensor(),\n",
    "\n",
    "    transforms.Normalize(mean=[0.5], std=[0.25]),\n",
    "    \n",
    "])\n",
    "\n",
    "train_dataset = torchvision.datasets.FashionMNIST(root='./data', train=True, download=True, \n",
    "                                           transform=preprocess)\n",
    "train_loader = torch.utils.data.DataLoader(train_dataset, batch_size=64, shuffle=True)\n",
    "\n",
    "\n",
    "\n",
    "# Note if you had your own data you would want to use \n",
    "#torch.utils.data.Dataset OR torch.utils.data.TensorDataset(X, y)\n",
    "#torch.utils.data.DataLoader(input_dataset, batch_size, etc)\n",
    "\n",
    "# For torch.utils.data.Dataset() you will need to make a class \n",
    "# you must make a __init__, __len__ and __getitem__ methods before it can be used\n",
    "# See example here: https://pytorch.org/tutorials/beginner/basics/data_tutorial.html\n",
    "\n",
    "\n"
   ]
  },
  {
   "cell_type": "code",
   "execution_count": null,
   "metadata": {},
   "outputs": [],
   "source": [
    "# Visualize the Data\n",
    "import matplotlib.pyplot as plt\n",
    "for batch, label in train_loader:\n",
    "    print(batch.shape)\n",
    "    print(label[0])\n",
    "    plt.imshow(batch[0].squeeze()[0])\n",
    "    break\n",
    "    "
   ]
  },
  {
   "cell_type": "code",
   "execution_count": null,
   "metadata": {},
   "outputs": [],
   "source": [
    "from torchvision.models import alexnet, AlexNet_Weights\n",
    "\n",
    "# Load the model\n",
    "model = torch.hub.load('pytorch/vision:v0.10.0', 'alexnet', pretrained=True)\n",
    "# Set it to eval mode to prevent learning\n",
    "model.eval()\n",
    "\n",
    "for batch, label in train_loader:\n",
    "\n",
    "    output = model(batch)\n",
    "    print(output[0])\n",
    "    print(label[0])\n",
    "    break"
   ]
  },
  {
   "cell_type": "markdown",
   "metadata": {},
   "source": [
    "# Recurrent Neural Networks (RNN)"
   ]
  }
 ],
 "metadata": {
  "kernelspec": {
   "display_name": ".venv",
   "language": "python",
   "name": "python3"
  },
  "language_info": {
   "codemirror_mode": {
    "name": "ipython",
    "version": 3
   },
   "file_extension": ".py",
   "mimetype": "text/x-python",
   "name": "python",
   "nbconvert_exporter": "python",
   "pygments_lexer": "ipython3",
   "version": "3.11.9"
  }
 },
 "nbformat": 4,
 "nbformat_minor": 2
}
