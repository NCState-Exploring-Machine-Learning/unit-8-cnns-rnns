{
 "cells": [
  {
   "cell_type": "markdown",
   "metadata": {},
   "source": [
    "# CNNs and RNNs\n",
    "\n",
    "<iframe src=\"https://giphy.com/embed/22eVpVYpRhaE0\" width=\"480\" height=\"274\" style=\"\" frameBorder=\"0\" class=\"giphy-embed\" allowFullScreen></iframe><p><a href=\"https://giphy.com/gifs/dreamworks-shrek-donkey-22eVpVYpRhaE0\">via GIPHY</a></p>\n",
    "\n",
    "In this unit we will talk about the Convolution Neural Network (CNN) and Recurrent Neural Network (RNN), as well as introducing how you can build them through using the module pytorch. "
   ]
  },
  {
   "cell_type": "markdown",
   "metadata": {},
   "source": [
    "# The Convolution\n",
    "\n",
    "In order to understand a CNN it is worth spending some time talking about the convolution. \n",
    "\n",
    "The idea of a convolution is to pass one system through another to get the characteristics of how they interact. If a system is thought of as a function, it is the idea of taking every output of each function for every input and combining them in some way. In our case we can simulate this by passing a kernel over our image. On initialization the kernel has random values, but the values can be learned through the training process. \n",
    "\n",
    "In our examples we will be used a 2 dimensional kernel, but kernels can be 1, 3, and more dimensions. \n",
    "\n",
    "A 2d kernel can be represented like a grid shown below, it has a shape, and each block in the grid contains a numeric value:\n",
    "\n",
    "<insert image of grid with random values and shapes>\n",
    "\n",
    "As a kernel is passed over data, the value in each kernel cell will be mathematically combined with a value of data in some way. Usually we multiply them. Then once that is done for every kernel value and corresponding data value the collection of output is combined together, usually by adding, and spit out as a single data value. \n",
    "\n",
    "Image of Kernel Convolution:\n",
    "\n",
    "<img src=\"./images/kernel_convolution.png\" width=\"600\">\n",
    "\n",
    "Here is a great example animation by wikipedia:\n",
    "https://en.wikipedia.org/wiki/File:2D_Convolution_Animation.gif\n",
    "\n",
    "How far the kernel is moved after each step is called the stride. \n",
    "\n",
    "One important aspect to note and not shown in the animation, is that if a kernel is passed over an image the output size will be reduced based on the kernel's size. \n",
    "\n",
    "The reduction in size can be expressed by this equation: \n",
    "\n",
    "n x n convolved with f x f = (n - f + 1) x (n - f + 1)\n",
    "\n",
    "The kernel acts as a way to consolidate information as it passes throughout the model. The output of the kernel and the data is known as a feature map. This creates a \"high level features\" on our feature map. It can be thought of as finding higher level patterns in our data. The more kernels we have the \"features\" we tend to learn.\n",
    "\n",
    "Large kernels can learn more global patterns or high level details, while small kernels can help learn more detailed patterns. \n",
    "\n",
    "As the feature map information is passed through multiple kernels, a single value later down the network represents many values closer to the input of the feature map.\n",
    "\n",
    "Alexnet Architecture for Reference:\n",
    "\n",
    "<img src=\"./images/alexnet_arch.png\" width=\"600\">\n",
    "\n",
    "Alexnet is a convocational neural net that takes in image data. Here the diagram shows the internal architecture of how it is built. In the diagram the orange squares represent data and its dimensions. The yellow boxes show the kernels and their sizes. The orange boxes change in size based on the number of kernels that are used - these are stacked on top of each other to get the new size. The activation function is usually applied at the output of the kernel convolution. The \"FC\" layers are the \"fully connected layers\" like the MLP we discussed in a previous lecture.\n",
    "\n",
    "Note at the time this model was considered to be so big they did all the training on two GPUs separately, the architecture on the two GPUs can be seen in the paper in the citations.\n",
    "\n",
    "<img src=\"./images/kernel_output_stacking.png\" width=\"600\">\n",
    "\n",
    "One great aspect of kernels is the variety of uses they have outside of machine learning too, here are some pretty cool examples:\n",
    "Interesting Kernels: https://en.wikipedia.org/wiki/Kernel_(image_processing)\n",
    "\n",
    "\n",
    "Citations and Useful Links on Convolutions and Kernels:\n",
    "- https://hannibunny.github.io/mlbook/neuralnetworks/convolutionDemos.html\n",
    "- https://www.striveworks.com/blog/demystifying-computer-vision-the-power-of-convolution-in-neural-networks#:~:text=What%20Is%20Convolution%3F\n",
    "- https://www.youtube.com/watch?v=kebSR2Ph7zg\n",
    "- https://medium.com/@abhishekjainindore24/all-about-convolutions-kernels-features-in-cnn-c656616390a1\n",
    "- https://stackoverflow.com/questions/56652204/pytorch-convolution-in-channels-and-out-channels-meaning\n",
    "- https://paperswithcode.com/method/alexnet\n",
    "- https://viso.ai/deep-learning/alexnet/\n"
   ]
  },
  {
   "cell_type": "markdown",
   "metadata": {},
   "source": [
    "# Neural Networks with Pytorch - a CNN Example\n",
    "\n",
    "Pytorch is a machine learning library created by Facebook/Meta, it is open source and created under the Linux Foundation. This along with TensorFlow is one of the most powerful open source machine learning libraries available. You can learn more about pytorch in the link below.\n",
    "\n",
    "https://pytorch.org/\n",
    "\n",
    "\n",
    "Pytorch as many of the same steps as scikit learn, however since pytorch's power comes from its ability to be more granular, there is a bit more setup involved. However, this gives us much more flexibility on our data. \n",
    "\n",
    "1. Import the data\n",
    "2. Setup the dataset class\n",
    "3. Feed into a data loader\n",
    "4. Build your model\n",
    "5. Train your model\n",
    "6. Evaluate the results\n",
    "\n",
    "There are many many resources online, so I encourage you to look at examples! \n",
    "\n",
    "Pytorch relies heavily on you to create classes, so if you are a bit rusty please check out online resources for class creation in python."
   ]
  },
  {
   "cell_type": "code",
   "execution_count": 1,
   "metadata": {},
   "outputs": [],
   "source": [
    "# Example inspired heavily from https://www.kaggle.com/code/tiiktak/fashion-mnist-with-alexnet-in-pytorch-92-accuracy\n",
    "# 1. Import the data\n",
    "# Data source: https://www.kaggle.com/datasets/zalando-research/fashionmnist?resource=download\n",
    "\n",
    "import zipfile\n",
    "import torch\n",
    "# Unzip the Data\n",
    "with zipfile.ZipFile('./fashion-mnist_test.csv.zip', 'r') as zip:\n",
    "    zip.extractall('fashion-mnist_test')\n",
    "\n",
    "with zipfile.ZipFile('./fashion-mnist_train.csv.zip', 'r') as zip:\n",
    "    zip.extractall('fashion-mnist_train')\n",
    "\n",
    "import pandas as pd\n",
    "\n",
    "fashion_train_csv = pd.read_csv('./fashion-mnist_train/fashion-mnist_train.csv')\n",
    "fashion_test_csv = pd.read_csv('./fashion-mnist_test/fashion-mnist_test.csv')\n",
    "\n",
    "CLASS_NAMES = ['T-shirt/top', 'Trouser', 'Pullover', 'Dress', 'Coat',\n",
    "               'Sandal', 'Shirt', 'Sneaker', 'Bag', 'Ankle boot']\n"
   ]
  },
  {
   "cell_type": "code",
   "execution_count": 2,
   "metadata": {},
   "outputs": [
    {
     "name": "stdout",
     "output_type": "stream",
     "text": [
      "   label  pixel1  pixel2  pixel3  pixel4  pixel5  pixel6  pixel7  pixel8  \\\n",
      "0      2       0       0       0       0       0       0       0       0   \n",
      "1      9       0       0       0       0       0       0       0       0   \n",
      "2      6       0       0       0       0       0       0       0       5   \n",
      "3      0       0       0       0       1       2       0       0       0   \n",
      "4      3       0       0       0       0       0       0       0       0   \n",
      "\n",
      "   pixel9  ...  pixel775  pixel776  pixel777  pixel778  pixel779  pixel780  \\\n",
      "0       0  ...         0         0         0         0         0         0   \n",
      "1       0  ...         0         0         0         0         0         0   \n",
      "2       0  ...         0         0         0        30        43         0   \n",
      "3       0  ...         3         0         0         0         0         1   \n",
      "4       0  ...         0         0         0         0         0         0   \n",
      "\n",
      "   pixel781  pixel782  pixel783  pixel784  \n",
      "0         0         0         0         0  \n",
      "1         0         0         0         0  \n",
      "2         0         0         0         0  \n",
      "3         0         0         0         0  \n",
      "4         0         0         0         0  \n",
      "\n",
      "[5 rows x 785 columns]\n"
     ]
    }
   ],
   "source": [
    "# Setup for Datasets\n",
    "print(fashion_train_csv.head())"
   ]
  },
  {
   "cell_type": "code",
   "execution_count": 3,
   "metadata": {},
   "outputs": [],
   "source": [
    "from torch.utils.data import Dataset\n",
    "import numpy as np\n",
    "from PIL import Image\n",
    "class FashionDataset(Dataset):\n",
    "    def __init__(self, data, transform=None):        \n",
    "        self.fashion_MNIST = list(data.values)\n",
    "        self.transform = transform\n",
    "        \n",
    "        label, image = [], []\n",
    "        \n",
    "        # Is there a better way to do this :)\n",
    "        for i in self.fashion_MNIST:\n",
    "            label.append(i[0])\n",
    "            image.append(i[1:])\n",
    "        self.labels = np.asarray(label)\n",
    "        self.images = np.asarray(image).reshape(-1, 28, 28).astype('float32')\n",
    "        \n",
    "    def __len__(self):\n",
    "        return len(self.images)\n",
    "    \n",
    "    def __getitem__(self, idx):\n",
    "        label = self.labels[idx]\n",
    "        image = self.images[idx]      \n",
    "        \n",
    "        if self.transform is not None:\n",
    "            # transfrom the numpy array to PIL image before the transform function\n",
    "            pil_image = Image.fromarray(np.uint8(image)) \n",
    "            image = self.transform(pil_image)\n",
    "            \n",
    "        return image, label\n",
    "    \n",
    "from torchvision import transforms, datasets\n",
    "# Feed into our dataset\n",
    "\n",
    "preprocess = transforms.Compose([\n",
    "    transforms.ToTensor(),\n",
    "    transforms.Normalize((0.5,), (0.5))\n",
    "])\n",
    "\n",
    "fashion_train_dataset = FashionDataset(fashion_train_csv, preprocess)\n",
    "fashion_test_dataset = FashionDataset(fashion_test_csv, preprocess)\n"
   ]
  },
  {
   "cell_type": "code",
   "execution_count": 4,
   "metadata": {},
   "outputs": [],
   "source": [
    "from torch.utils.data import DataLoader\n",
    "# Feed into a data loader\n",
    "BATCH_SIZE = 4\n",
    "fashion_train_loader = DataLoader(fashion_train_dataset, batch_size=BATCH_SIZE, shuffle=True)\n",
    "fashion_test_loader = DataLoader(fashion_test_dataset, batch_size=BATCH_SIZE, shuffle=True) "
   ]
  },
  {
   "cell_type": "code",
   "execution_count": 5,
   "metadata": {},
   "outputs": [
    {
     "name": "stdout",
     "output_type": "stream",
     "text": [
      "torch.Size([4, 1, 28, 28])\n",
      "torch.Size([4])\n"
     ]
    },
    {
     "data": {
      "image/png": "[encoded data removed]",
      "text/plain": [
       "<Figure size 640x480 with 1 Axes>"
      ]
     },
     "metadata": {},
     "output_type": "display_data"
    },
    {
     "name": "stdout",
     "output_type": "stream",
     "text": [
      "Bag\n"
     ]
    }
   ],
   "source": [
    "# Visualize Data\n",
    "import matplotlib.pyplot as plt\n",
    "for batch, labels in fashion_train_loader:\n",
    "    print(batch.shape)\n",
    "    print(labels.shape)\n",
    "    # Unnormize batch\n",
    "    batch = batch/2 + 0.5\n",
    "    plt.figure()\n",
    "    plt.imshow(batch[0].squeeze())\n",
    "    plt.show()\n",
    "    print( CLASS_NAMES[int(labels[0])])\n",
    "    break"
   ]
  },
  {
   "cell_type": "code",
   "execution_count": 6,
   "metadata": {},
   "outputs": [
    {
     "name": "stdout",
     "output_type": "stream",
     "text": [
      "torch.Size([4, 10])\n"
     ]
    }
   ],
   "source": [
    "# Build the model\n",
    "import torch.nn as nn\n",
    "# There is a lot of nuance here\n",
    "\n",
    "\n",
    "class fashion_mnist_model(nn.Module):\n",
    "    def __init__(self):\n",
    "        super(fashion_mnist_model, self).__init__()\n",
    "        # Create the layers we want to use\n",
    "        # Made these up for this example\n",
    "\n",
    "        # Convolutional layer what has 1 input channel - since our images are grayscale\n",
    "        # Note we do not have to specify the image size here. \n",
    "        # It will then create 10 kernels 3x3 - this determines our number of out channels\n",
    "        self.conv1 = nn.Conv2d(in_channels=1, out_channels=10, kernel_size=3)\n",
    "        self.conv2 = nn.Conv2d(in_channels=10, out_channels=3, kernel_size=3)\n",
    "        self.conv3 = nn.Conv2d(in_channels=3, out_channels=1, kernel_size=3)\n",
    "        # Output will be 10 here for the 10 classes. We want to see the \n",
    "        # probability of what the image input is for each class.\n",
    "        self.fc1 = nn.Linear(in_features=22 * 22, out_features=10)\n",
    "        self.relu = nn.ReLU()\n",
    "\n",
    "\n",
    "    def forward(self, x : torch.Tensor):\n",
    "        # Use the layers we created to do a feed forward of our data\n",
    "        # This is the actual model architecture\n",
    "        x = self.conv1(x)\n",
    "        x = self.relu(x)\n",
    "        x = self.conv2(x)\n",
    "        x = self.relu(x)\n",
    "        x = self.conv3(x)\n",
    "        x = self.relu(x)\n",
    "        x = x.view(x.size(0), -1)\n",
    "        x = self.fc1(x)\n",
    "        return x\n",
    "\n",
    "import torch.nn.functional as F\n",
    "# PyTorch models inherit from torch.nn.Module\n",
    "class GarmentClassifier(nn.Module):\n",
    "    def __init__(self):\n",
    "        super(GarmentClassifier, self).__init__()\n",
    "        self.conv1 = nn.Conv2d(1, 6, 5)\n",
    "        self.pool = nn.MaxPool2d(2, 2)\n",
    "        self.conv2 = nn.Conv2d(6, 16, 5)\n",
    "        self.fc1 = nn.Linear(16 * 4 * 4, 120)\n",
    "        self.fc2 = nn.Linear(120, 84)\n",
    "        self.fc3 = nn.Linear(84, 10)\n",
    "\n",
    "    def forward(self, x):\n",
    "        x = self.pool(F.relu(self.conv1(x)))\n",
    "        x = self.pool(F.relu(self.conv2(x)))\n",
    "        x = x.view(-1, 16 * 4 * 4)\n",
    "        x = F.relu(self.fc1(x))\n",
    "        x = F.relu(self.fc2(x))\n",
    "        x = self.fc3(x)\n",
    "        return x\n",
    "\n",
    "\n",
    "# Look at all of these hyperparameters we can change!\n",
    "\n",
    "model = fashion_mnist_model()\n",
    "model.eval() # This locks our model and prevents training\n",
    "for batch, labels in fashion_train_loader:\n",
    "    out = model(batch)\n",
    "    print(out.shape)\n",
    "    break"
   ]
  },
  {
   "cell_type": "code",
   "execution_count": 7,
   "metadata": {},
   "outputs": [],
   "source": [
    "# Training the Model\n",
    "import datetime\n",
    "# There are a few extra steps in training our model, such as \n",
    "# Determining our loss function\n",
    "loss_fn = torch.nn.CrossEntropyLoss()\n",
    "\n",
    "# Determine the number of epochs\n",
    "EPOCHS = 3\n",
    "# (Optional but very helpful) tracking loss\n",
    "running_loss = 0\n",
    "last_lost = 0\n",
    "running_loss_log = []\n",
    "epoch_loss = 0\n",
    "epoch_loss_log = []\n",
    "# Make model\n",
    "fashion_model = fashion_mnist_model()\n",
    "# Determining our optimizer\n",
    "optimizer = torch.optim.SGD(fashion_model.parameters(), lr=0.001, momentum=0.9)\n"
   ]
  },
  {
   "cell_type": "code",
   "execution_count": 8,
   "metadata": {},
   "outputs": [
    {
     "name": "stdout",
     "output_type": "stream",
     "text": [
      "Epoch 1\n",
      "  batch 1000 loss: 10.168432836160063\n",
      "  batch 2000 loss: 6.513258492503082\n",
      "  batch 3000 loss: 5.6960448636068035\n",
      "  batch 4000 loss: 5.624933464559726\n",
      "  batch 5000 loss: 5.351755323878024\n",
      "  batch 6000 loss: 5.111694123654161\n",
      "  batch 7000 loss: 5.191115580657497\n",
      "  batch 8000 loss: 5.318487725803279\n",
      "  batch 9000 loss: 4.893432170584565\n",
      "  batch 10000 loss: 5.0770387608348395\n",
      "  batch 11000 loss: 4.786953321226465\n",
      "  batch 12000 loss: 4.9388032383885\n",
      "  batch 13000 loss: 5.038164311089203\n",
      "  batch 14000 loss: 4.928020809120499\n",
      "  batch 15000 loss: 4.749635524415644\n",
      "Epoch 2\n",
      "  batch 1000 loss: 4.743200097631197\n",
      "  batch 2000 loss: 4.448864721801365\n",
      "  batch 3000 loss: 4.4758994165132755\n",
      "  batch 4000 loss: 4.79308091450599\n",
      "  batch 5000 loss: 4.503131404381711\n",
      "  batch 6000 loss: 4.421358660493861\n",
      "  batch 7000 loss: 4.563366078543477\n",
      "  batch 8000 loss: 4.502765234501567\n",
      "  batch 9000 loss: 4.29260863584379\n",
      "  batch 10000 loss: 4.488715089266188\n",
      "  batch 11000 loss: 4.462038547014163\n",
      "  batch 12000 loss: 4.354255389411119\n",
      "  batch 13000 loss: 4.646054346282617\n",
      "  batch 14000 loss: 4.288088984224014\n",
      "  batch 15000 loss: 4.428983399159624\n",
      "Epoch 3\n",
      "  batch 1000 loss: 4.182053686261934\n",
      "  batch 2000 loss: 4.12973106327583\n",
      "  batch 3000 loss: 4.242448847019114\n"
     ]
    },
    {
     "ename": "KeyboardInterrupt",
     "evalue": "",
     "output_type": "error",
     "traceback": [
      "\u001b[1;31m---------------------------------------------------------------------------\u001b[0m",
      "\u001b[1;31mKeyboardInterrupt\u001b[0m                         Traceback (most recent call last)",
      "Cell \u001b[1;32mIn[8], line 15\u001b[0m\n\u001b[0;32m     13\u001b[0m \u001b[38;5;66;03m# Calculate loss on expected data and gradients\u001b[39;00m\n\u001b[0;32m     14\u001b[0m loss \u001b[38;5;241m=\u001b[39m loss_fn(outputs, labels)\n\u001b[1;32m---> 15\u001b[0m \u001b[43mloss\u001b[49m\u001b[38;5;241;43m.\u001b[39;49m\u001b[43mbackward\u001b[49m\u001b[43m(\u001b[49m\u001b[43m)\u001b[49m\n\u001b[0;32m     16\u001b[0m \u001b[38;5;66;03m# Adjust learning weights\u001b[39;00m\n\u001b[0;32m     17\u001b[0m optimizer\u001b[38;5;241m.\u001b[39mstep()\n",
      "File \u001b[1;32mc:\\Users\\trent\\Documents\\DSC412\\units\\unit-8-cnns-rnns\\unit-8-venv\\Lib\\site-packages\\torch\\_tensor.py:581\u001b[0m, in \u001b[0;36mTensor.backward\u001b[1;34m(self, gradient, retain_graph, create_graph, inputs)\u001b[0m\n\u001b[0;32m    571\u001b[0m \u001b[38;5;28;01mif\u001b[39;00m has_torch_function_unary(\u001b[38;5;28mself\u001b[39m):\n\u001b[0;32m    572\u001b[0m     \u001b[38;5;28;01mreturn\u001b[39;00m handle_torch_function(\n\u001b[0;32m    573\u001b[0m         Tensor\u001b[38;5;241m.\u001b[39mbackward,\n\u001b[0;32m    574\u001b[0m         (\u001b[38;5;28mself\u001b[39m,),\n\u001b[1;32m   (...)\u001b[0m\n\u001b[0;32m    579\u001b[0m         inputs\u001b[38;5;241m=\u001b[39minputs,\n\u001b[0;32m    580\u001b[0m     )\n\u001b[1;32m--> 581\u001b[0m \u001b[43mtorch\u001b[49m\u001b[38;5;241;43m.\u001b[39;49m\u001b[43mautograd\u001b[49m\u001b[38;5;241;43m.\u001b[39;49m\u001b[43mbackward\u001b[49m\u001b[43m(\u001b[49m\n\u001b[0;32m    582\u001b[0m \u001b[43m    \u001b[49m\u001b[38;5;28;43mself\u001b[39;49m\u001b[43m,\u001b[49m\u001b[43m \u001b[49m\u001b[43mgradient\u001b[49m\u001b[43m,\u001b[49m\u001b[43m \u001b[49m\u001b[43mretain_graph\u001b[49m\u001b[43m,\u001b[49m\u001b[43m \u001b[49m\u001b[43mcreate_graph\u001b[49m\u001b[43m,\u001b[49m\u001b[43m \u001b[49m\u001b[43minputs\u001b[49m\u001b[38;5;241;43m=\u001b[39;49m\u001b[43minputs\u001b[49m\n\u001b[0;32m    583\u001b[0m \u001b[43m\u001b[49m\u001b[43m)\u001b[49m\n",
      "File \u001b[1;32mc:\\Users\\trent\\Documents\\DSC412\\units\\unit-8-cnns-rnns\\unit-8-venv\\Lib\\site-packages\\torch\\autograd\\__init__.py:347\u001b[0m, in \u001b[0;36mbackward\u001b[1;34m(tensors, grad_tensors, retain_graph, create_graph, grad_variables, inputs)\u001b[0m\n\u001b[0;32m    342\u001b[0m     retain_graph \u001b[38;5;241m=\u001b[39m create_graph\n\u001b[0;32m    344\u001b[0m \u001b[38;5;66;03m# The reason we repeat the same comment below is that\u001b[39;00m\n\u001b[0;32m    345\u001b[0m \u001b[38;5;66;03m# some Python versions print out the first line of a multi-line function\u001b[39;00m\n\u001b[0;32m    346\u001b[0m \u001b[38;5;66;03m# calls in the traceback and some print out the last line\u001b[39;00m\n\u001b[1;32m--> 347\u001b[0m \u001b[43m_engine_run_backward\u001b[49m\u001b[43m(\u001b[49m\n\u001b[0;32m    348\u001b[0m \u001b[43m    \u001b[49m\u001b[43mtensors\u001b[49m\u001b[43m,\u001b[49m\n\u001b[0;32m    349\u001b[0m \u001b[43m    \u001b[49m\u001b[43mgrad_tensors_\u001b[49m\u001b[43m,\u001b[49m\n\u001b[0;32m    350\u001b[0m \u001b[43m    \u001b[49m\u001b[43mretain_graph\u001b[49m\u001b[43m,\u001b[49m\n\u001b[0;32m    351\u001b[0m \u001b[43m    \u001b[49m\u001b[43mcreate_graph\u001b[49m\u001b[43m,\u001b[49m\n\u001b[0;32m    352\u001b[0m \u001b[43m    \u001b[49m\u001b[43minputs\u001b[49m\u001b[43m,\u001b[49m\n\u001b[0;32m    353\u001b[0m \u001b[43m    \u001b[49m\u001b[43mallow_unreachable\u001b[49m\u001b[38;5;241;43m=\u001b[39;49m\u001b[38;5;28;43;01mTrue\u001b[39;49;00m\u001b[43m,\u001b[49m\n\u001b[0;32m    354\u001b[0m \u001b[43m    \u001b[49m\u001b[43maccumulate_grad\u001b[49m\u001b[38;5;241;43m=\u001b[39;49m\u001b[38;5;28;43;01mTrue\u001b[39;49;00m\u001b[43m,\u001b[49m\n\u001b[0;32m    355\u001b[0m \u001b[43m\u001b[49m\u001b[43m)\u001b[49m\n",
      "File \u001b[1;32mc:\\Users\\trent\\Documents\\DSC412\\units\\unit-8-cnns-rnns\\unit-8-venv\\Lib\\site-packages\\torch\\autograd\\graph.py:825\u001b[0m, in \u001b[0;36m_engine_run_backward\u001b[1;34m(t_outputs, *args, **kwargs)\u001b[0m\n\u001b[0;32m    823\u001b[0m     unregister_hooks \u001b[38;5;241m=\u001b[39m _register_logging_hooks_on_whole_graph(t_outputs)\n\u001b[0;32m    824\u001b[0m \u001b[38;5;28;01mtry\u001b[39;00m:\n\u001b[1;32m--> 825\u001b[0m     \u001b[38;5;28;01mreturn\u001b[39;00m \u001b[43mVariable\u001b[49m\u001b[38;5;241;43m.\u001b[39;49m\u001b[43m_execution_engine\u001b[49m\u001b[38;5;241;43m.\u001b[39;49m\u001b[43mrun_backward\u001b[49m\u001b[43m(\u001b[49m\u001b[43m  \u001b[49m\u001b[38;5;66;43;03m# Calls into the C++ engine to run the backward pass\u001b[39;49;00m\n\u001b[0;32m    826\u001b[0m \u001b[43m        \u001b[49m\u001b[43mt_outputs\u001b[49m\u001b[43m,\u001b[49m\u001b[43m \u001b[49m\u001b[38;5;241;43m*\u001b[39;49m\u001b[43margs\u001b[49m\u001b[43m,\u001b[49m\u001b[43m \u001b[49m\u001b[38;5;241;43m*\u001b[39;49m\u001b[38;5;241;43m*\u001b[39;49m\u001b[43mkwargs\u001b[49m\n\u001b[0;32m    827\u001b[0m \u001b[43m    \u001b[49m\u001b[43m)\u001b[49m  \u001b[38;5;66;03m# Calls into the C++ engine to run the backward pass\u001b[39;00m\n\u001b[0;32m    828\u001b[0m \u001b[38;5;28;01mfinally\u001b[39;00m:\n\u001b[0;32m    829\u001b[0m     \u001b[38;5;28;01mif\u001b[39;00m attach_logging_hooks:\n",
      "\u001b[1;31mKeyboardInterrupt\u001b[0m: "
     ]
    }
   ],
   "source": [
    "# Start training\n",
    "\n",
    "for epoch in range(EPOCHS):\n",
    "    print(f\"Epoch {epoch + 1}\")\n",
    "    for i, batch in enumerate(fashion_train_loader):\n",
    "        inputs, labels = batch\n",
    "        # Zero out gradients\n",
    "        optimizer.zero_grad()\n",
    "        # Make predictions\n",
    "        outputs = fashion_model(inputs)\n",
    "        # Calculate loss on expected data and gradients\n",
    "        loss = loss_fn(outputs, labels)\n",
    "        loss.backward()\n",
    "        # Adjust learning weights\n",
    "        optimizer.step()\n",
    "        # Report loss\n",
    "        # Gather data and report\n",
    "        running_loss += loss.item()\n",
    "        epoch_loss += loss.item()\n",
    "        if i % 1000 == 999:\n",
    "            last_loss = running_loss / 100\n",
    "            print('  batch {} loss: {}'.format(i + 1, last_loss))\n",
    "            running_loss_log.append(last_loss)\n",
    "            running_loss = 0\n",
    "    epoch_loss_log.append(epoch_loss)\n",
    "    epoch_loss = 0\n",
    "    time_now = datetime.datetime.now()\n",
    "    # model_path = './model_{}_{}_{}_{}'.format(time_now.hour, time_now.minute, time_now.second, epoch)\n",
    "    # torch.save(fashion_model.state_dict(), model_path)\n",
    "# It is also a good idea to save a model locally, that way it is\n",
    "# not lost if your computer turns off, or you can continue training\n",
    "# it later \n",
    "\n",
    "# Model can be loaded by:\n",
    "#saved_model = fashion_mnist_model()\n",
    "#saved_model.load_state_dict(torch.load(PATH))"
   ]
  },
  {
   "cell_type": "code",
   "execution_count": 9,
   "metadata": {},
   "outputs": [
    {
     "data": {
      "image/png": "[encoded data removed]",
      "text/plain": [
       "<Figure size 640x480 with 1 Axes>"
      ]
     },
     "metadata": {},
     "output_type": "display_data"
    }
   ],
   "source": [
    "# Evaluating the Model\n",
    "plt.figure()\n",
    "plt.title(\"Fashion Model Loss\")\n",
    "plt.plot(running_loss_log)\n",
    "plt.show()"
   ]
  },
  {
   "cell_type": "code",
   "execution_count": 10,
   "metadata": {},
   "outputs": [
    {
     "name": "stdout",
     "output_type": "stream",
     "text": [
      "Accuracy of model: 0.8360000252723694\n"
     ]
    }
   ],
   "source": [
    "# Evaluate Mode\n",
    "fashion_model.eval() # Prevents training\n",
    "total_samples = 0\n",
    "total_correct = 0\n",
    "correct = 0\n",
    "total = 0\n",
    "with torch.no_grad():\n",
    "    for i, batch in enumerate(fashion_test_loader):\n",
    "        inputs, labels = batch\n",
    "        outputs = fashion_model(inputs)\n",
    "        predicted_labels = torch.argmax(outputs, dim=1)\n",
    "        correct += torch.sum(predicted_labels == labels)\n",
    "        total += predicted_labels.shape[0]\n",
    "\n",
    "accuracy = correct/total\n",
    "print(\"Accuracy of model:\", accuracy.item())\n",
    "        \n"
   ]
  },
  {
   "cell_type": "markdown",
   "metadata": {},
   "source": [
    "# Recurrent Neural Network (RNN)\n",
    "\n",
    "The idea of a RNN is there may be information in previous layers that may be lost throughout the model as it passes through each layer. \n",
    "\n",
    "The general architecture can be seen here:\n",
    "\n",
    "\n",
    "An RNN may take different forms, and depending on the application you may have better results with different architectures. It is worth noting the different relationships that exists for RNNs like one to one, one to many, many to many, and many to one. \n",
    "\n",
    "Lets build a RNN with Pytorch pulling heavily from the citation below.\n",
    "\n",
    "Citations:\n",
    "- https://pytorch.org/tutorials/intermediate/char_rnn_classification_tutorial.html\n",
    "- https://www.geeksforgeeks.org/introduction-to-recurrent-neural-network/\n",
    "\n"
   ]
  },
  {
   "cell_type": "markdown",
   "metadata": {},
   "source": [
    "## NLP From Scratch - Classifying Names\n",
    "\n",
    "Ihe tutorial example we will try to predict the language of origin for a name. This idea could be extended to trying to predict the country code for a phone number on a phone based on inputs to a first name.\n",
    "\n",
    "What are some positive uses for this model? Anything creative?\n",
    "What are some negative implications of this models? Can this model be used in malicious ways?"
   ]
  },
  {
   "cell_type": "code",
   "execution_count": 11,
   "metadata": {},
   "outputs": [
    {
     "name": "stdout",
     "output_type": "stream",
     "text": [
      "Found:  ['./name_data/data/names\\\\Arabic.txt', './name_data/data/names\\\\Chinese.txt', './name_data/data/names\\\\Czech.txt', './name_data/data/names\\\\Dutch.txt', './name_data/data/names\\\\English.txt', './name_data/data/names\\\\French.txt', './name_data/data/names\\\\German.txt', './name_data/data/names\\\\Greek.txt', './name_data/data/names\\\\Irish.txt', './name_data/data/names\\\\Italian.txt', './name_data/data/names\\\\Japanese.txt', './name_data/data/names\\\\Korean.txt', './name_data/data/names\\\\Polish.txt', './name_data/data/names\\\\Portuguese.txt', './name_data/data/names\\\\Russian.txt', './name_data/data/names\\\\Scottish.txt', './name_data/data/names\\\\Spanish.txt', './name_data/data/names\\\\Vietnamese.txt']\n",
      "Slusarski\n"
     ]
    }
   ],
   "source": [
    "from io import open\n",
    "import glob\n",
    "import os\n",
    "\n",
    "import zipfile\n",
    "import torch\n",
    "# Unzip the Data\n",
    "with zipfile.ZipFile('./name_data.zip', 'r') as zip:\n",
    "    zip.extractall('name_data')\n",
    "\n",
    "\n",
    "def findFiles(path): return glob.glob(path)\n",
    "\n",
    "print(\"Found: \", findFiles('./name_data/data/names/*.txt'))\n",
    "\n",
    "import unicodedata\n",
    "import string\n",
    "\n",
    "all_letters = string.ascii_letters + \" .,;'\"\n",
    "n_letters = len(all_letters)\n",
    "\n",
    "# Turn a Unicode string to plain ASCII, thanks to https://stackoverflow.com/a/518232/2809427\n",
    "def unicodeToAscii(s):\n",
    "    return ''.join(\n",
    "        c for c in unicodedata.normalize('NFD', s)\n",
    "        if unicodedata.category(c) != 'Mn'\n",
    "        and c in all_letters\n",
    "    )\n",
    "\n",
    "print(unicodeToAscii('Ślusàrski'))\n",
    "\n",
    "# Build the category_lines dictionary, a list of names per language\n",
    "category_lines = {}\n",
    "all_categories = []\n",
    "\n",
    "# Read a file and split into lines\n",
    "def readLines(filename):\n",
    "    lines = open(filename, encoding='utf-8').read().strip().split('\\n')\n",
    "    return [unicodeToAscii(line) for line in lines]\n",
    "\n",
    "for filename in findFiles('./name_data/data/names/*.txt'):\n",
    "    category = os.path.splitext(os.path.basename(filename))[0]\n",
    "    all_categories.append(category)\n",
    "    lines = readLines(filename)\n",
    "    category_lines[category] = lines\n",
    "\n",
    "n_categories = len(all_categories)"
   ]
  },
  {
   "cell_type": "code",
   "execution_count": 12,
   "metadata": {},
   "outputs": [
    {
     "name": "stdout",
     "output_type": "stream",
     "text": [
      "['Abandonato', 'Abatangelo', 'Abatantuono', 'Abate', 'Abategiovanni']\n"
     ]
    }
   ],
   "source": [
    "# look at the data\n",
    "print(category_lines['Italian'][:5])"
   ]
  },
  {
   "cell_type": "code",
   "execution_count": 13,
   "metadata": {},
   "outputs": [
    {
     "name": "stdout",
     "output_type": "stream",
     "text": [
      "tensor([[0., 0., 0., 0., 0., 0., 0., 0., 0., 0., 0., 0., 0., 0., 0., 0., 0., 0.,\n",
      "         0., 0., 0., 0., 0., 0., 0., 0., 0., 0., 0., 0., 0., 0., 0., 0., 0., 1.,\n",
      "         0., 0., 0., 0., 0., 0., 0., 0., 0., 0., 0., 0., 0., 0., 0., 0., 0., 0.,\n",
      "         0., 0., 0.]])\n",
      "torch.Size([5, 1, 57])\n"
     ]
    }
   ],
   "source": [
    "import torch\n",
    "# Turn the names into tensors\n",
    "# here a letter is indexed based on \"one-hot vector\"\n",
    "# For example, if there were 3 total letters, a, b, c then \n",
    "# a would be [1, 0, 0]\n",
    "# b would be [0, 1, 0]\n",
    "# c would be [0, 0, 1]\n",
    "\n",
    "\n",
    "# Find letter index from all_letters, e.g. \"a\" = 0\n",
    "def letterToIndex(letter):\n",
    "    return all_letters.find(letter)\n",
    "\n",
    "# Just for demonstration, turn a letter into a <1 x n_letters> Tensor\n",
    "def letterToTensor(letter):\n",
    "    tensor = torch.zeros(1, n_letters)\n",
    "    tensor[0][letterToIndex(letter)] = 1\n",
    "    return tensor\n",
    "\n",
    "# Turn a line into a <line_length x 1 x n_letters>,\n",
    "# or an array of one-hot letter vectors\n",
    "def lineToTensor(line):\n",
    "    tensor = torch.zeros(len(line), 1, n_letters)\n",
    "    for li, letter in enumerate(line):\n",
    "        tensor[li][0][letterToIndex(letter)] = 1\n",
    "    return tensor\n",
    "\n",
    "print(letterToTensor('J'))\n",
    "\n",
    "print(lineToTensor('Jones').size())"
   ]
  },
  {
   "cell_type": "code",
   "execution_count": null,
   "metadata": {},
   "outputs": [
    {
     "name": "stdout",
     "output_type": "stream",
     "text": [
      "<bound method Module.parameters of RNN(\n",
      "  (i2h): Linear(in_features=57, out_features=128, bias=True)\n",
      "  (h2h): Linear(in_features=128, out_features=128, bias=True)\n",
      "  (h2o): Linear(in_features=128, out_features=18, bias=True)\n",
      "  (softmax): LogSoftmax(dim=1)\n",
      ")>\n"
     ]
    }
   ],
   "source": [
    "# Creating the network\n",
    "\n",
    "import torch.nn as nn\n",
    "import torch.nn.functional as F\n",
    "\n",
    "class RNN(nn.Module):\n",
    "    def __init__(self, input_size, hidden_size, output_size):\n",
    "        super(RNN, self).__init__()\n",
    "\n",
    "        self.hidden_size = hidden_size\n",
    "\n",
    "        self.i2h = nn.Linear(input_size, hidden_size)\n",
    "        self.h2h = nn.Linear(hidden_size, hidden_size)\n",
    "        self.h2o = nn.Linear(hidden_size, output_size)\n",
    "        self.softmax = nn.LogSoftmax(dim=1)\n",
    "\n",
    "    def forward(self, input, hidden):\n",
    "        hidden = F.tanh(self.i2h(input) + self.h2h(hidden))\n",
    "        output = self.h2o(hidden)\n",
    "        output = self.softmax(output)\n",
    "        return output, hidden\n",
    "\n",
    "    # This will be used when we train the model to pass in to the model \n",
    "    # Since we do not have a previous hidden value on model init\n",
    "    def initHidden(self):\n",
    "        return torch.zeros(1, self.hidden_size)\n",
    "\n",
    "n_hidden = 128\n",
    "rnn = RNN(n_letters, n_hidden, n_categories)\n",
    "print(rnn.parameters)"
   ]
  },
  {
   "cell_type": "code",
   "execution_count": 15,
   "metadata": {},
   "outputs": [],
   "source": [
    "# Example with one \"channel\" or letter\n",
    "# This is an example of checking if your model\n",
    "# can accept the expected input\n",
    "input = letterToTensor('A')\n",
    "hidden = torch.zeros(1, n_hidden)\n",
    "\n",
    "output, next_hidden = rnn(input, hidden)"
   ]
  },
  {
   "cell_type": "code",
   "execution_count": 16,
   "metadata": {},
   "outputs": [
    {
     "name": "stdout",
     "output_type": "stream",
     "text": [
      "tensor([[-2.8967, -2.9199, -2.8628, -2.7901, -2.8911, -2.9693, -2.9087, -2.8644,\n",
      "         -2.6696, -2.7304, -2.9947, -2.9204, -2.9906, -2.8910, -2.9323, -2.8490,\n",
      "         -3.0046, -3.0169]], grad_fn=<LogSoftmaxBackward0>)\n"
     ]
    }
   ],
   "source": [
    "# This is an optimization step\n",
    "# And could be precomputed before putting into model\n",
    "input = lineToTensor('Albert')\n",
    "hidden = torch.zeros(1, n_hidden)\n",
    "\n",
    "output, next_hidden = rnn(input[0], hidden)\n",
    "print(output)\n",
    "# The output is the likelihood of the category"
   ]
  },
  {
   "cell_type": "code",
   "execution_count": 17,
   "metadata": {},
   "outputs": [
    {
     "name": "stdout",
     "output_type": "stream",
     "text": [
      "('Irish', 8)\n"
     ]
    }
   ],
   "source": [
    "# Prepare for training\n",
    "\n",
    "# Helper function to get output\n",
    "def categoryFromOutput(output):\n",
    "    top_n, top_i = output.topk(1)\n",
    "    category_i = top_i[0].item()\n",
    "    return all_categories[category_i], category_i\n",
    "\n",
    "print(categoryFromOutput(output))"
   ]
  },
  {
   "cell_type": "code",
   "execution_count": 18,
   "metadata": {},
   "outputs": [
    {
     "name": "stdout",
     "output_type": "stream",
     "text": [
      "category = Polish | line = Grzeskiewicz\n",
      "category = Russian | line = Zasukha\n",
      "category = French | line = Romilly\n",
      "category = German | line = Schnur\n",
      "category = Chinese | line = Shui\n",
      "category = Japanese | line = Aizawa\n",
      "category = Scottish | line = Bruce\n",
      "category = Dutch | line = Herten\n",
      "category = Irish | line = Cassidy\n",
      "category = Japanese | line = Jukodo\n"
     ]
    }
   ],
   "source": [
    "# A quick way to get a training example\n",
    "\n",
    "import random\n",
    "\n",
    "def randomChoice(l):\n",
    "    return l[random.randint(0, len(l) - 1)]\n",
    "\n",
    "def randomTrainingExample():\n",
    "    category = randomChoice(all_categories)\n",
    "    line = randomChoice(category_lines[category])\n",
    "    category_tensor = torch.tensor([all_categories.index(category)], dtype=torch.long)\n",
    "    line_tensor = lineToTensor(line)\n",
    "    return category, line, category_tensor, line_tensor\n",
    "\n",
    "for i in range(10):\n",
    "    category, line, category_tensor, line_tensor = randomTrainingExample()\n",
    "    print('category =', category, '| line =', line)"
   ]
  },
  {
   "cell_type": "code",
   "execution_count": 19,
   "metadata": {},
   "outputs": [],
   "source": [
    "# Training the network \n",
    "\n",
    "criterion = nn.NLLLoss()\n",
    "learning_rate = 0.005 # If you set this too high, it might explode. If too low, it might not learn\n",
    "\n",
    "def train(category_tensor, line_tensor):\n",
    "    hidden = rnn.initHidden()\n",
    "\n",
    "    rnn.zero_grad()\n",
    "\n",
    "    for i in range(line_tensor.size()[0]):\n",
    "        output, hidden = rnn(line_tensor[i], hidden)\n",
    "\n",
    "    loss = criterion(output, category_tensor)\n",
    "    loss.backward()\n",
    "\n",
    "    # Add parameters' gradients to their values, multiplied by learning rate\n",
    "    for p in rnn.parameters():\n",
    "        p.data.add_(p.grad.data, alpha=-learning_rate)\n",
    "\n",
    "    return output, loss.item()"
   ]
  },
  {
   "cell_type": "code",
   "execution_count": 20,
   "metadata": {},
   "outputs": [
    {
     "name": "stdout",
     "output_type": "stream",
     "text": [
      "5000 5% (0m 12s) 1.2965 Ryu / Chinese ✗ (Korean)\n",
      "10000 10% (0m 24s) 2.4931 Simoes / Arabic ✗ (Portuguese)\n",
      "15000 15% (0m 39s) 1.0081 To / Vietnamese ✓\n",
      "20000 20% (0m 53s) 2.3095 Guinard / Irish ✗ (English)\n",
      "25000 25% (1m 11s) 1.1047 Phi / Vietnamese ✓\n",
      "30000 30% (1m 29s) 0.8662 Chieu / Chinese ✓\n",
      "35000 35% (1m 48s) 0.6715 Napoliello / Italian ✓\n",
      "40000 40% (2m 10s) 0.2595 Doan / Vietnamese ✓\n",
      "45000 45% (2m 32s) 0.5503 Shan / Chinese ✓\n",
      "50000 50% (2m 53s) 0.0676 Malouf / Arabic ✓\n",
      "55000 55% (3m 8s) 0.6529 Le / Vietnamese ✓\n",
      "60000 60% (3m 22s) 5.4104 Mukasey / Arabic ✗ (Russian)\n",
      "65000 65% (3m 35s) 0.3203 Snijder / Dutch ✓\n",
      "70000 70% (3m 49s) 1.0605 Ton / Chinese ✗ (Vietnamese)\n",
      "75000 75% (4m 4s) 0.6817 Smets / Dutch ✓\n",
      "80000 80% (4m 23s) 0.3522 Xiao / Chinese ✓\n",
      "85000 85% (4m 48s) 0.1383 Gonzalez / Spanish ✓\n",
      "90000 90% (5m 14s) 0.0355 Anderson / Scottish ✓\n",
      "95000 95% (5m 45s) 1.1083 Kenmotsu / Japanese ✓\n",
      "100000 100% (6m 12s) 0.1252 Tong / Vietnamese ✓\n"
     ]
    }
   ],
   "source": [
    "import time\n",
    "import math\n",
    "\n",
    "n_iters = 100000\n",
    "print_every = 5000\n",
    "plot_every = 1000\n",
    "\n",
    "\n",
    "\n",
    "# Keep track of losses for plotting\n",
    "current_loss = 0\n",
    "all_losses = []\n",
    "\n",
    "def timeSince(since):\n",
    "    now = time.time()\n",
    "    s = now - since\n",
    "    m = math.floor(s / 60)\n",
    "    s -= m * 60\n",
    "    return '%dm %ds' % (m, s)\n",
    "\n",
    "start = time.time()\n",
    "\n",
    "for iter in range(1, n_iters + 1):\n",
    "    category, line, category_tensor, line_tensor = randomTrainingExample()\n",
    "    output, loss = train(category_tensor, line_tensor)\n",
    "    current_loss += loss\n",
    "\n",
    "    # Print ``iter`` number, loss, name and guess\n",
    "    if iter % print_every == 0:\n",
    "        guess, guess_i = categoryFromOutput(output)\n",
    "        correct = '✓' if guess == category else '✗ (%s)' % category\n",
    "        print('%d %d%% (%s) %.4f %s / %s %s' % (iter, iter / n_iters * 100, timeSince(start), loss, line, guess, correct))\n",
    "\n",
    "    # Add current loss avg to list of losses\n",
    "    if iter % plot_every == 0:\n",
    "        all_losses.append(current_loss / plot_every)\n",
    "        current_loss = 0"
   ]
  },
  {
   "cell_type": "code",
   "execution_count": 21,
   "metadata": {},
   "outputs": [
    {
     "data": {
      "text/plain": [
       "[<matplotlib.lines.Line2D at 0x21b2f759190>]"
      ]
     },
     "execution_count": 21,
     "metadata": {},
     "output_type": "execute_result"
    },
    {
     "data": {
      "image/png": "[encoded data removed]",
      "text/plain": [
       "<Figure size 640x480 with 1 Axes>"
      ]
     },
     "metadata": {},
     "output_type": "display_data"
    }
   ],
   "source": [
    "import matplotlib.pyplot as plt\n",
    "import matplotlib.ticker as ticker\n",
    "\n",
    "plt.figure()\n",
    "plt.plot(all_losses)"
   ]
  },
  {
   "cell_type": "code",
   "execution_count": 22,
   "metadata": {},
   "outputs": [
    {
     "name": "stderr",
     "output_type": "stream",
     "text": [
      "C:\\Users\\trent\\AppData\\Local\\Temp\\ipykernel_23812\\3585656379.py:33: UserWarning: set_ticklabels() should only be used with a fixed number of ticks, i.e. after set_ticks() or using a FixedLocator.\n",
      "  ax.set_xticklabels([''] + all_categories, rotation=90)\n",
      "C:\\Users\\trent\\AppData\\Local\\Temp\\ipykernel_23812\\3585656379.py:34: UserWarning: set_ticklabels() should only be used with a fixed number of ticks, i.e. after set_ticks() or using a FixedLocator.\n",
      "  ax.set_yticklabels([''] + all_categories)\n"
     ]
    },
    {
     "data": {
      "image/png": "[encoded data removed]",
      "text/plain": [
       "<Figure size 640x480 with 2 Axes>"
      ]
     },
     "metadata": {},
     "output_type": "display_data"
    }
   ],
   "source": [
    "# Keep track of correct guesses in a confusion matrix\n",
    "confusion = torch.zeros(n_categories, n_categories)\n",
    "n_confusion = 10000\n",
    "\n",
    "# Just return an output given a line\n",
    "def evaluate(line_tensor):\n",
    "    hidden = rnn.initHidden()\n",
    "\n",
    "    for i in range(line_tensor.size()[0]):\n",
    "        output, hidden = rnn(line_tensor[i], hidden)\n",
    "\n",
    "    return output\n",
    "\n",
    "# Go through a bunch of examples and record which are correctly guessed\n",
    "for i in range(n_confusion):\n",
    "    category, line, category_tensor, line_tensor = randomTrainingExample()\n",
    "    output = evaluate(line_tensor)\n",
    "    guess, guess_i = categoryFromOutput(output)\n",
    "    category_i = all_categories.index(category)\n",
    "    confusion[category_i][guess_i] += 1\n",
    "\n",
    "# Normalize by dividing every row by its sum\n",
    "for i in range(n_categories):\n",
    "    confusion[i] = confusion[i] / confusion[i].sum()\n",
    "\n",
    "# Set up plot\n",
    "fig = plt.figure()\n",
    "ax = fig.add_subplot(111)\n",
    "cax = ax.matshow(confusion.numpy())\n",
    "fig.colorbar(cax)\n",
    "\n",
    "# Set up axes\n",
    "ax.set_xticklabels([''] + all_categories, rotation=90)\n",
    "ax.set_yticklabels([''] + all_categories)\n",
    "\n",
    "# Force label at every tick\n",
    "ax.xaxis.set_major_locator(ticker.MultipleLocator(1))\n",
    "ax.yaxis.set_major_locator(ticker.MultipleLocator(1))\n",
    "\n",
    "# sphinx_gallery_thumbnail_number = 2\n",
    "plt.show()"
   ]
  },
  {
   "cell_type": "code",
   "execution_count": 23,
   "metadata": {},
   "outputs": [
    {
     "name": "stdout",
     "output_type": "stream",
     "text": [
      "\n",
      "> Dovesky\n",
      "(-0.17) Czech\n",
      "(-2.14) Russian\n",
      "(-3.63) English\n",
      "\n",
      "> Jackson\n",
      "(-0.18) Scottish\n",
      "(-2.36) English\n",
      "(-3.51) Czech\n",
      "\n",
      "> Satoshi\n",
      "(-0.35) Arabic\n",
      "(-1.65) Italian\n",
      "(-2.48) Japanese\n",
      "\n",
      "> Trenton\n",
      "(-1.08) English\n",
      "(-1.24) French\n",
      "(-1.82) German\n"
     ]
    }
   ],
   "source": [
    "# Trying on user input:\n",
    "def predict(input_line, n_predictions=3):\n",
    "    print('\\n> %s' % input_line)\n",
    "    with torch.no_grad():\n",
    "        output = evaluate(lineToTensor(input_line))\n",
    "\n",
    "        # Get top N categories\n",
    "        topv, topi = output.topk(n_predictions, 1, True)\n",
    "        predictions = []\n",
    "\n",
    "        for i in range(n_predictions):\n",
    "            value = topv[0][i].item()\n",
    "            category_index = topi[0][i].item()\n",
    "            print('(%.2f) %s' % (value, all_categories[category_index]))\n",
    "            predictions.append([value, all_categories[category_index]])\n",
    "\n",
    "# Higher Value is more likely\n",
    "predict('Dovesky')\n",
    "predict('Jackson')\n",
    "predict('Satoshi')\n",
    "predict('Trenton')"
   ]
  }
 ],
 "metadata": {
  "kernelspec": {
   "display_name": ".venv",
   "language": "python",
   "name": "python3"
  },
  "language_info": {
   "codemirror_mode": {
    "name": "ipython",
    "version": 3
   },
   "file_extension": ".py",
   "mimetype": "text/x-python",
   "name": "python",
   "nbconvert_exporter": "python",
   "pygments_lexer": "ipython3",
   "version": "3.12.5"
  }
 },
 "nbformat": 4,
 "nbformat_minor": 2
}
